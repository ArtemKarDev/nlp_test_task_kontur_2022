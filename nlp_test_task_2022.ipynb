{
 "cells": [
  {
   "cell_type": "markdown",
   "id": "88257c7a",
   "metadata": {},
   "source": [
    "Идея\n",
    "Как распознать фейк? - со 100 вероятностью это возможно только после прочтения всей новостной статьи и подкреплением информации из других источников. поэтому считаю что тут задача стоит несколько иная.\n",
    "\n",
    "На просторах интернет океан информации и многие хотят создать привлекающий внимание заголовок для получения посещаемости именно своего источника - Кликбейт(использование «кричащих» заголовков). Для создания такого используется несколько другой стиль написания текста - соответсвенно считаю что необходимо сделать упор например на состав частей речи, морфологию и синтаксис.\n"
   ]
  },
  {
   "cell_type": "markdown",
   "id": "41dadd21",
   "metadata": {},
   "source": [
    "# Тестовое задание\n",
    "\n",
    "Для выполнения тестового задания требуется разработать модель, которая будет способна различать заголовки реальных и выдуманных новостей.\n",
    "Для обучения модели используйте данные из файла `train.tsv`. В файле находится таблица, состоящая из двух колонок. \n",
    "В колонке title записан заголовок новости. В колонке is_fake содержатся метки: 0 – новость реальная; 1 – новость выдуманная.\n",
    "Для демонстрации работы модели используйте данные тестового набора из файла `test.tsv`. В нем также есть колонка title, данные которой являются входными для вашей модели.\n",
    "Вам нужно скопировать файл `test.tsv`, переименовать его в `predictions.tsv` и заполнить колонку is_fake значениями предсказаний вашей модели, аналогично `train.tsv`. \n",
    "Изначально колонка заполнена значением 0.\n",
    "\n",
    "# Критерии оценки\n",
    "1. Для оценки финального решения будет использоваться метрика F1 score.\n",
    "2. Чистота кода, оформление и понятность исследования.\n",
    "\n",
    "# Требования к решению\n",
    "В качестве решения мы ожидаем zip-архив со всеми *.py и *.ipynb файлами в папке solution и файлом `predictions.tsv` в корне. Формат имени zip-архива: LastName_FirstName.zip (пример Ivanov_Ivan.zip).\n",
    "Файл `predictions.tsv` должен включать в себя колонку title, содержащую те же данные, что и исходный файл `test.tsv`, а также колонку is_fake, содержащую значения 0 или 1.\n",
    "Разметка тестового набора данных и включение его в обучение/валидацию запрещены.\n",
    "\n",
    "В папке solution должно быть отражено исследование и весь код, \n",
    "необходимый для воспроизведения исследования.\n",
    "\n",
    "Успехов!"
   ]
  },
  {
   "cell_type": "markdown",
   "id": "2d0a44a4",
   "metadata": {},
   "source": [
    "## Оглавление:\n",
    "* [1. Загрузка и обзор данных](#loading_data)\n",
    "\n",
    "* [2. Предварительная обработка текста](#pre_text)\n",
    "\n",
    "* [3. Создание новых признаков](#feature_eng)\n",
    "\n",
    "* [4. Разделение на train/valid выборки](#train_valid)\n",
    "\n",
    "* [5. Векторизация](#vector)\n",
    "\n",
    "* [6. Оптимальная модель и кросс валидация](#cross_val)\n",
    "* [6.1 Случайный лес](#random_forest)\n",
    "\n",
    "* [6.2 Оценка важности признаков](#feature_importances)\n",
    "* [6.3 Логистическая регрессия](#log_reg)\n",
    "\n",
    "* [7. Финал](#final)\n",
    "* [7.1 Подготовка тестового датасета](#test_data)\n",
    "* [7.2 Тестирование](#test)"
   ]
  },
  {
   "cell_type": "markdown",
   "id": "f66ff749",
   "metadata": {},
   "source": [
    "Для исследования воспользуюсь полученными знаниями с курса который прохожу в данны момент. \n",
    "\n",
    "Кроме тривиальных признаков как количество слов, добуду инфу о количестве частей речи и используемых падежах. А также одним из видов модели \"мешок слов\"."
   ]
  },
  {
   "cell_type": "markdown",
   "id": "71baabbd",
   "metadata": {},
   "source": [
    "## 1. Загрузка и обзор данных  <a class=\"anchor\" id=\"loading_data\"></a>\n"
   ]
  },
  {
   "cell_type": "code",
   "execution_count": 2,
   "id": "f6615cfb",
   "metadata": {},
   "outputs": [
    {
     "name": "stdout",
     "output_type": "stream",
     "text": [
      "Defaulting to user installation because normal site-packages is not writeable\n",
      "Requirement already satisfied: pymorphy2 in c:\\users\\karlashov\\appdata\\roaming\\python\\python310\\site-packages (0.9.1)\n",
      "Requirement already satisfied: docopt>=0.6 in c:\\users\\karlashov\\appdata\\roaming\\python\\python310\\site-packages (from pymorphy2) (0.6.2)\n",
      "Requirement already satisfied: dawg-python>=0.7.1 in c:\\users\\karlashov\\appdata\\roaming\\python\\python310\\site-packages (from pymorphy2) (0.7.2)\n",
      "Requirement already satisfied: pymorphy2-dicts-ru<3.0,>=2.4 in c:\\users\\karlashov\\appdata\\roaming\\python\\python310\\site-packages (from pymorphy2) (2.4.417127.4579844)\n"
     ]
    },
    {
     "name": "stderr",
     "output_type": "stream",
     "text": [
      "WARNING: You are using pip version 21.2.3; however, version 22.1.1 is available.\n",
      "You should consider upgrading via the 'C:\\Program Files\\Python310\\python.exe -m pip install --upgrade pip' command.\n"
     ]
    },
    {
     "name": "stdout",
     "output_type": "stream",
     "text": [
      "Defaulting to user installation because normal site-packages is not writeable\n",
      "Requirement already satisfied: nltk in c:\\users\\karlashov\\appdata\\roaming\\python\\python310\\site-packages (3.7)\n",
      "Requirement already satisfied: joblib in c:\\users\\karlashov\\appdata\\roaming\\python\\python310\\site-packages (from nltk) (1.1.0)\n",
      "Requirement already satisfied: regex>=2021.8.3 in c:\\users\\karlashov\\appdata\\roaming\\python\\python310\\site-packages (from nltk) (2022.3.15)\n",
      "Requirement already satisfied: click in c:\\users\\karlashov\\appdata\\roaming\\python\\python310\\site-packages (from nltk) (8.1.2)\n",
      "Requirement already satisfied: tqdm in c:\\users\\karlashov\\appdata\\roaming\\python\\python310\\site-packages (from nltk) (4.64.0)\n",
      "Requirement already satisfied: colorama in c:\\program files\\python310\\lib\\site-packages (from click->nltk) (0.4.4)\n"
     ]
    },
    {
     "name": "stderr",
     "output_type": "stream",
     "text": [
      "WARNING: You are using pip version 21.2.3; however, version 22.1.1 is available.\n",
      "You should consider upgrading via the 'C:\\Program Files\\Python310\\python.exe -m pip install --upgrade pip' command.\n",
      "[nltk_data] Downloading package wordnet to\n",
      "[nltk_data]     C:\\Users\\Karlashov\\AppData\\Roaming\\nltk_data...\n",
      "[nltk_data]   Package wordnet is already up-to-date!\n",
      "[nltk_data] Downloading package stopwords to\n",
      "[nltk_data]     C:\\Users\\Karlashov\\AppData\\Roaming\\nltk_data...\n",
      "[nltk_data]   Package stopwords is already up-to-date!\n"
     ]
    }
   ],
   "source": [
    "import warnings\n",
    "warnings.simplefilter(action='ignore', category=FutureWarning)\n",
    "warnings.filterwarnings(\"ignore\")\n",
    "\n",
    "\n",
    "# импортируем сразу все требуемые модули\n",
    "import pandas as pd\n",
    "import numpy as np\n",
    "#import re\n",
    "import string\n",
    " \n",
    "# загрузим морфологический анализатор для русского языка\n",
    "# на случай если не установлен пакет\n",
    "!pip install pymorphy2\n",
    "import pymorphy2\n",
    "\n",
    "# на случай если не установлен пакет\n",
    "#!pip install nltk\n",
    "import nltk\n",
    "# подгрузим лексическую  базы данных\n",
    "nltk.download('wordnet')\n",
    "# и базу \"ненужных\" слов\n",
    "nltk.download('stopwords')\n",
    "# для удаления некоторых слов\n",
    "from nltk.corpus import stopwords\n",
    "# для лемматизации текста\n",
    "from nltk.stem import WordNetLemmatizer\n",
    "\n",
    "# импортируем библиотеки для из sklearn\n",
    "from sklearn.model_selection import train_test_split    # для ращделения на train/valid выборки\n",
    "from sklearn.model_selection import GridSearchCV        # для перебора гиперпараметров модели и выбора лучших\n",
    "from sklearn.feature_extraction.text import TfidfVectorizer # для векторизации текста для создания признаков\n",
    "from sklearn.preprocessing import StandardScaler \n",
    "from sklearn.ensemble import RandomForestClassifier  \n",
    "from sklearn.linear_model import LogisticRegression\n",
    "from sklearn.dummy import DummyClassifier\n",
    "\n",
    "from sklearn.metrics import confusion_matrix\n",
    "from sklearn.metrics import precision_recall_fscore_support as score\n",
    "from sklearn.metrics import roc_curve, auc\n",
    "from sklearn.metrics import roc_auc_score\n",
    "\n",
    "import matplotlib.pyplot as plt\n",
    "import seaborn as sns"
   ]
  },
  {
   "cell_type": "code",
   "execution_count": 4,
   "id": "f647c8b7",
   "metadata": {},
   "outputs": [],
   "source": [
    "# использую конструкцию try-except на случай если не получится работать над проектам локально\n",
    "try:\n",
    "    train_df = pd.read_csv('dataset/train.tsv', sep='\\t') \n",
    "    test_df =  pd.read_csv('dataset/test.tsv', sep='\\t')\n",
    "except:\n",
    "    # для работы в Colab и загрузкой с google drive\n",
    "    from google.colab import drive\n",
    "    drive.mount('/content/gdrive')\n",
    "    train_df = pd.read_csv('/content/gdrive/My Drive/DS/datasets/nlp_test_task/train.tsv', sep='\\t')\n",
    "    test_df =  pd.read_csv('/content/gdrive/My Drive/DS/datasets/nlp_test_task/test.tsv', sep='\\t')"
   ]
  },
  {
   "cell_type": "code",
   "execution_count": 3,
   "id": "83c4d9f1",
   "metadata": {},
   "outputs": [
    {
     "name": "stdout",
     "output_type": "stream",
     "text": [
      "<class 'pandas.core.frame.DataFrame'>\n",
      "RangeIndex: 5758 entries, 0 to 5757\n",
      "Data columns (total 2 columns):\n",
      " #   Column   Non-Null Count  Dtype \n",
      "---  ------   --------------  ----- \n",
      " 0   title    5758 non-null   object\n",
      " 1   is_fake  5758 non-null   int64 \n",
      "dtypes: int64(1), object(1)\n",
      "memory usage: 90.1+ KB\n"
     ]
    }
   ],
   "source": [
    "train_df.info()"
   ]
  },
  {
   "cell_type": "code",
   "execution_count": 4,
   "id": "03eaf22c",
   "metadata": {},
   "outputs": [
    {
     "data": {
      "text/plain": [
       "1    2879\n",
       "0    2879\n",
       "Name: is_fake, dtype: int64"
      ]
     },
     "execution_count": 4,
     "metadata": {},
     "output_type": "execute_result"
    }
   ],
   "source": [
    "train_df['is_fake'].value_counts()"
   ]
  },
  {
   "cell_type": "markdown",
   "id": "634443d6",
   "metadata": {},
   "source": [
    "Данные загрузились нормально. Они чисты от пропусков и баланс классов идеальный."
   ]
  },
  {
   "cell_type": "markdown",
   "id": "89d18129",
   "metadata": {},
   "source": [
    "## 2. Предварительная обработка текста  <a class=\"anchor\" id=\"pre_text\"></a> "
   ]
  },
  {
   "cell_type": "markdown",
   "id": "3b8e9230",
   "metadata": {},
   "source": [
    "Текст может содержать цифры, специальные символы и ненужные пробелы. В зависимости от проблемы, с которой мы сталкиваемся, нам может понадобиться или не понадобиться удалять эти специальные символы и цифры из текста."
   ]
  },
  {
   "cell_type": "code",
   "execution_count": 5,
   "id": "2fb3041d",
   "metadata": {},
   "outputs": [],
   "source": [
    "# инициализируем экземпляр класса  MorphAnalyzer \n",
    "# принимает слово и возвращает все возможные разборы\n",
    "morph = pymorphy2.MorphAnalyzer()\n",
    "\n",
    "np.random.seed(42)\n",
    "\n",
    "# объединим в функцию все нужные манипуляции для очистки текста\n",
    "\n",
    "def text_cleaning(text):\n",
    "    # удаление всех не буквенных символов:\n",
    "    text = ''.join([char for char in text if char.isalpha() or char==' '])\n",
    "\n",
    "    # преобразуем в нижний регистр\n",
    "    text = text.lower()\n",
    "    \n",
    "    # лемматизация  - для преобразования слов в базовую форму\n",
    "    text = text.split()\n",
    "    txt = []\n",
    "    for word in text:\n",
    "        m = morph.parse(word)[0]  \n",
    "        txt.append(m.normal_form)  # отбираем из вывода всевозможных форм только нормальную \n",
    "    text = ' '.join(txt)\n",
    "    return text\n"
   ]
  },
  {
   "cell_type": "code",
   "execution_count": 6,
   "id": "9fe12e30",
   "metadata": {},
   "outputs": [
    {
     "data": {
      "text/html": [
       "<div>\n",
       "<style scoped>\n",
       "    .dataframe tbody tr th:only-of-type {\n",
       "        vertical-align: middle;\n",
       "    }\n",
       "\n",
       "    .dataframe tbody tr th {\n",
       "        vertical-align: top;\n",
       "    }\n",
       "\n",
       "    .dataframe thead th {\n",
       "        text-align: right;\n",
       "    }\n",
       "</style>\n",
       "<table border=\"1\" class=\"dataframe\">\n",
       "  <thead>\n",
       "    <tr style=\"text-align: right;\">\n",
       "      <th></th>\n",
       "      <th>title</th>\n",
       "      <th>is_fake</th>\n",
       "      <th>clean_text</th>\n",
       "    </tr>\n",
       "  </thead>\n",
       "  <tbody>\n",
       "    <tr>\n",
       "      <th>0</th>\n",
       "      <td>Москвичу Владимиру Клутину пришёл счёт за вмеш...</td>\n",
       "      <td>1</td>\n",
       "      <td>москвич владимир клутина прийти счёт за вмешат...</td>\n",
       "    </tr>\n",
       "    <tr>\n",
       "      <th>1</th>\n",
       "      <td>Агент Кокорина назвал езду по встречке житейск...</td>\n",
       "      <td>0</td>\n",
       "      <td>агент кокорин назвать езда по встречка житейск...</td>\n",
       "    </tr>\n",
       "    <tr>\n",
       "      <th>2</th>\n",
       "      <td>Госдума рассмотрит возможность введения секрет...</td>\n",
       "      <td>1</td>\n",
       "      <td>госдума рассмотреть возможность введение секре...</td>\n",
       "    </tr>\n",
       "    <tr>\n",
       "      <th>3</th>\n",
       "      <td>ФАС заблокировала поставку скоростных трамваев...</td>\n",
       "      <td>0</td>\n",
       "      <td>фас заблокировать поставка скоростной трамвай ...</td>\n",
       "    </tr>\n",
       "    <tr>\n",
       "      <th>4</th>\n",
       "      <td>Против Навального завели дело о недоносительст...</td>\n",
       "      <td>1</td>\n",
       "      <td>против навальный завести дело о недоносительст...</td>\n",
       "    </tr>\n",
       "  </tbody>\n",
       "</table>\n",
       "</div>"
      ],
      "text/plain": [
       "                                               title  is_fake  \\\n",
       "0  Москвичу Владимиру Клутину пришёл счёт за вмеш...        1   \n",
       "1  Агент Кокорина назвал езду по встречке житейск...        0   \n",
       "2  Госдума рассмотрит возможность введения секрет...        1   \n",
       "3  ФАС заблокировала поставку скоростных трамваев...        0   \n",
       "4  Против Навального завели дело о недоносительст...        1   \n",
       "\n",
       "                                          clean_text  \n",
       "0  москвич владимир клутина прийти счёт за вмешат...  \n",
       "1  агент кокорин назвать езда по встречка житейск...  \n",
       "2  госдума рассмотреть возможность введение секре...  \n",
       "3  фас заблокировать поставка скоростной трамвай ...  \n",
       "4  против навальный завести дело о недоносительст...  "
      ]
     },
     "execution_count": 6,
     "metadata": {},
     "output_type": "execute_result"
    }
   ],
   "source": [
    "# применим \"очиститель\" и сохраним в отдельный столбец\n",
    "train_df['clean_text'] = train_df['title'].apply(lambda x: text_cleaning(x))\n",
    "train_df.head()"
   ]
  },
  {
   "cell_type": "markdown",
   "id": "84f09885",
   "metadata": {},
   "source": [
    "## 3. Создание новых признаков   <a class=\"anchor\" id=\"feature_eng\"></a> \n",
    "\n",
    "создадим признаки которые могут благотворно сказаться на обучении модели"
   ]
  },
  {
   "cell_type": "code",
   "execution_count": 7,
   "id": "b8f99b33",
   "metadata": {},
   "outputs": [],
   "source": [
    "# функция для вычисления доли символов пунктуации\n",
    "def pcnt_punct(text):\n",
    "    A = text.split()\n",
    "    count = sum([1 for char in text if char in string.punctuation])\n",
    "    return int(round( count / (len(text) - text.count(' ')), 3) * 1000)\n",
    "\n",
    "\n",
    "# доля знаков пунктуации в title\n",
    "train_df['pcnt_punct'] = train_df['title'].apply(lambda x: pcnt_punct(x))"
   ]
  },
  {
   "cell_type": "code",
   "execution_count": 8,
   "id": "28c0c2e7",
   "metadata": {},
   "outputs": [],
   "source": [
    "\n",
    "#  колонка с количеством символов в title   \n",
    "#train_df['len_text'] = train_df['title'].apply(lambda x: len(x))\n",
    "\n",
    "# train_df['len_text'] = train_df['title'].apply(lambda x: sum([len(y) for y in x.split()]))\n",
    "\n",
    "# количество слов в title\n",
    "train_df['count_words'] = train_df['title'].apply(lambda x: sum([1 for y in x.split()]))\n",
    "\n",
    "# количество заглавных букв \n",
    "train_df['sum_upper_chars'] = train_df['title'].apply(lambda x: sum([1 for y in x if y.isupper()]))"
   ]
  },
  {
   "cell_type": "code",
   "execution_count": 9,
   "id": "774796d8",
   "metadata": {},
   "outputs": [],
   "source": [
    "POS_list =['NOUN','ADJF','ADJS','COMP','VERB','INFN','PRTF','PRTS','GRND','NUMR','ADVB','NPRO','PRED','PREP','CONJ','PRCL','INTJ']\n",
    "case_list = ['nomn','gent','datv','accs','ablt','loct','voct','gen2','acc2','loc2']\n",
    "POS_case_list =  POS_list + case_list\n",
    " \n",
    "def get_pos_case_count(text, pos_case):\n",
    "    count = 0\n",
    "    for word in text.split():\n",
    "        p = morph.parse(word)[0]\n",
    "        if pos_case in POS_list:\n",
    "            t = str(p.tag.POS)\n",
    "        else:    \n",
    "            t = str(p.tag.case) \n",
    "        if t == pos_case:\n",
    "            count += 1\n",
    "    return count\n",
    "\n",
    "# создание признаков на каждую часть речи и падеж - перечень обозначений из библиотеки  pymorphy2\n",
    "for pc in POS_case_list:\n",
    "    if pc in POS_list:\n",
    "        col_name = 'pos_' + pc\n",
    "    else:\n",
    "        col_name = 'case_' + pc\n",
    "    train_df[col_name] = train_df['title'].apply(lambda x: get_pos_case_count(x,pc))"
   ]
  },
  {
   "cell_type": "code",
   "execution_count": 10,
   "id": "b9652777",
   "metadata": {},
   "outputs": [
    {
     "data": {
      "text/html": [
       "<div>\n",
       "<style scoped>\n",
       "    .dataframe tbody tr th:only-of-type {\n",
       "        vertical-align: middle;\n",
       "    }\n",
       "\n",
       "    .dataframe tbody tr th {\n",
       "        vertical-align: top;\n",
       "    }\n",
       "\n",
       "    .dataframe thead th {\n",
       "        text-align: right;\n",
       "    }\n",
       "</style>\n",
       "<table border=\"1\" class=\"dataframe\">\n",
       "  <thead>\n",
       "    <tr style=\"text-align: right;\">\n",
       "      <th></th>\n",
       "      <th>is_fake</th>\n",
       "      <th>pcnt_punct</th>\n",
       "      <th>count_words</th>\n",
       "      <th>sum_upper_chars</th>\n",
       "      <th>pos_NOUN</th>\n",
       "      <th>pos_ADJF</th>\n",
       "      <th>pos_ADJS</th>\n",
       "      <th>pos_COMP</th>\n",
       "      <th>pos_VERB</th>\n",
       "      <th>pos_INFN</th>\n",
       "      <th>...</th>\n",
       "      <th>case_nomn</th>\n",
       "      <th>case_gent</th>\n",
       "      <th>case_datv</th>\n",
       "      <th>case_accs</th>\n",
       "      <th>case_ablt</th>\n",
       "      <th>case_loct</th>\n",
       "      <th>case_voct</th>\n",
       "      <th>case_gen2</th>\n",
       "      <th>case_acc2</th>\n",
       "      <th>case_loc2</th>\n",
       "    </tr>\n",
       "  </thead>\n",
       "  <tbody>\n",
       "    <tr>\n",
       "      <th>is_fake</th>\n",
       "      <td>1.000000</td>\n",
       "      <td>0.202012</td>\n",
       "      <td>0.487473</td>\n",
       "      <td>0.142369</td>\n",
       "      <td>0.321121</td>\n",
       "      <td>0.204011</td>\n",
       "      <td>0.015644</td>\n",
       "      <td>0.036717</td>\n",
       "      <td>0.100223</td>\n",
       "      <td>0.195180</td>\n",
       "      <td>...</td>\n",
       "      <td>0.081740</td>\n",
       "      <td>0.260839</td>\n",
       "      <td>0.089358</td>\n",
       "      <td>0.103557</td>\n",
       "      <td>0.082937</td>\n",
       "      <td>0.132224</td>\n",
       "      <td>0.018640</td>\n",
       "      <td>NaN</td>\n",
       "      <td>NaN</td>\n",
       "      <td>0.032598</td>\n",
       "    </tr>\n",
       "    <tr>\n",
       "      <th>pcnt_punct</th>\n",
       "      <td>0.202012</td>\n",
       "      <td>1.000000</td>\n",
       "      <td>0.193135</td>\n",
       "      <td>0.168080</td>\n",
       "      <td>-0.069349</td>\n",
       "      <td>0.006742</td>\n",
       "      <td>0.023388</td>\n",
       "      <td>0.021311</td>\n",
       "      <td>0.075969</td>\n",
       "      <td>0.004694</td>\n",
       "      <td>...</td>\n",
       "      <td>0.044267</td>\n",
       "      <td>-0.032144</td>\n",
       "      <td>-0.010929</td>\n",
       "      <td>-0.023332</td>\n",
       "      <td>0.018860</td>\n",
       "      <td>-0.025984</td>\n",
       "      <td>0.001810</td>\n",
       "      <td>NaN</td>\n",
       "      <td>NaN</td>\n",
       "      <td>0.001320</td>\n",
       "    </tr>\n",
       "    <tr>\n",
       "      <th>count_words</th>\n",
       "      <td>0.487473</td>\n",
       "      <td>0.193135</td>\n",
       "      <td>1.000000</td>\n",
       "      <td>0.292837</td>\n",
       "      <td>0.663536</td>\n",
       "      <td>0.345466</td>\n",
       "      <td>0.060382</td>\n",
       "      <td>0.057720</td>\n",
       "      <td>0.210827</td>\n",
       "      <td>0.163623</td>\n",
       "      <td>...</td>\n",
       "      <td>0.242329</td>\n",
       "      <td>0.464283</td>\n",
       "      <td>0.123203</td>\n",
       "      <td>0.182157</td>\n",
       "      <td>0.103168</td>\n",
       "      <td>0.288412</td>\n",
       "      <td>0.011781</td>\n",
       "      <td>NaN</td>\n",
       "      <td>NaN</td>\n",
       "      <td>0.083491</td>\n",
       "    </tr>\n",
       "    <tr>\n",
       "      <th>sum_upper_chars</th>\n",
       "      <td>0.142369</td>\n",
       "      <td>0.168080</td>\n",
       "      <td>0.292837</td>\n",
       "      <td>1.000000</td>\n",
       "      <td>0.281331</td>\n",
       "      <td>-0.079612</td>\n",
       "      <td>0.063879</td>\n",
       "      <td>-0.029215</td>\n",
       "      <td>0.052600</td>\n",
       "      <td>-0.035939</td>\n",
       "      <td>...</td>\n",
       "      <td>0.120563</td>\n",
       "      <td>0.122262</td>\n",
       "      <td>-0.004497</td>\n",
       "      <td>-0.024366</td>\n",
       "      <td>0.000347</td>\n",
       "      <td>0.084389</td>\n",
       "      <td>0.000292</td>\n",
       "      <td>NaN</td>\n",
       "      <td>NaN</td>\n",
       "      <td>-0.007744</td>\n",
       "    </tr>\n",
       "    <tr>\n",
       "      <th>pos_NOUN</th>\n",
       "      <td>0.321121</td>\n",
       "      <td>-0.069349</td>\n",
       "      <td>0.663536</td>\n",
       "      <td>0.281331</td>\n",
       "      <td>1.000000</td>\n",
       "      <td>0.024047</td>\n",
       "      <td>-0.002265</td>\n",
       "      <td>-0.026848</td>\n",
       "      <td>0.032061</td>\n",
       "      <td>-0.025367</td>\n",
       "      <td>...</td>\n",
       "      <td>0.239786</td>\n",
       "      <td>0.595009</td>\n",
       "      <td>0.134378</td>\n",
       "      <td>0.146133</td>\n",
       "      <td>0.094341</td>\n",
       "      <td>0.230904</td>\n",
       "      <td>0.011627</td>\n",
       "      <td>NaN</td>\n",
       "      <td>NaN</td>\n",
       "      <td>0.050389</td>\n",
       "    </tr>\n",
       "  </tbody>\n",
       "</table>\n",
       "<p>5 rows × 31 columns</p>\n",
       "</div>"
      ],
      "text/plain": [
       "                  is_fake  pcnt_punct  count_words  sum_upper_chars  pos_NOUN  \\\n",
       "is_fake          1.000000    0.202012     0.487473         0.142369  0.321121   \n",
       "pcnt_punct       0.202012    1.000000     0.193135         0.168080 -0.069349   \n",
       "count_words      0.487473    0.193135     1.000000         0.292837  0.663536   \n",
       "sum_upper_chars  0.142369    0.168080     0.292837         1.000000  0.281331   \n",
       "pos_NOUN         0.321121   -0.069349     0.663536         0.281331  1.000000   \n",
       "\n",
       "                 pos_ADJF  pos_ADJS  pos_COMP  pos_VERB  pos_INFN  ...  \\\n",
       "is_fake          0.204011  0.015644  0.036717  0.100223  0.195180  ...   \n",
       "pcnt_punct       0.006742  0.023388  0.021311  0.075969  0.004694  ...   \n",
       "count_words      0.345466  0.060382  0.057720  0.210827  0.163623  ...   \n",
       "sum_upper_chars -0.079612  0.063879 -0.029215  0.052600 -0.035939  ...   \n",
       "pos_NOUN         0.024047 -0.002265 -0.026848  0.032061 -0.025367  ...   \n",
       "\n",
       "                 case_nomn  case_gent  case_datv  case_accs  case_ablt  \\\n",
       "is_fake           0.081740   0.260839   0.089358   0.103557   0.082937   \n",
       "pcnt_punct        0.044267  -0.032144  -0.010929  -0.023332   0.018860   \n",
       "count_words       0.242329   0.464283   0.123203   0.182157   0.103168   \n",
       "sum_upper_chars   0.120563   0.122262  -0.004497  -0.024366   0.000347   \n",
       "pos_NOUN          0.239786   0.595009   0.134378   0.146133   0.094341   \n",
       "\n",
       "                 case_loct  case_voct  case_gen2  case_acc2  case_loc2  \n",
       "is_fake           0.132224   0.018640        NaN        NaN   0.032598  \n",
       "pcnt_punct       -0.025984   0.001810        NaN        NaN   0.001320  \n",
       "count_words       0.288412   0.011781        NaN        NaN   0.083491  \n",
       "sum_upper_chars   0.084389   0.000292        NaN        NaN  -0.007744  \n",
       "pos_NOUN          0.230904   0.011627        NaN        NaN   0.050389  \n",
       "\n",
       "[5 rows x 31 columns]"
      ]
     },
     "execution_count": 10,
     "metadata": {},
     "output_type": "execute_result"
    }
   ],
   "source": [
    "# предварительно обратим внимание на корреляцию признаков с признаком is_fake\n",
    "train_df.corr().head(5)"
   ]
  },
  {
   "cell_type": "markdown",
   "id": "2381e7c3",
   "metadata": {},
   "source": [
    "## 4. Разделение на train/valid выборки <a class=\"anchor\" id=\"train_valid\"></a>"
   ]
  },
  {
   "cell_type": "code",
   "execution_count": 11,
   "id": "8f23c98f",
   "metadata": {},
   "outputs": [],
   "source": [
    "X = train_df \n",
    "y = train_df['is_fake']   # target\n",
    "\n",
    "X_train, X_valid, y_train, y_valid = train_test_split(X,y, test_size=0.2,\n",
    "                                                    random_state=42, stratify=y)\n",
    "# набор данных относительно невелик поэтому stratify - баланс классов"
   ]
  },
  {
   "cell_type": "code",
   "execution_count": 12,
   "id": "b04d0604",
   "metadata": {},
   "outputs": [
    {
     "name": "stdout",
     "output_type": "stream",
     "text": [
      "(4606, 33) (1152, 33) (4606,) (1152,)\n"
     ]
    }
   ],
   "source": [
    "print(X_train.shape, X_valid.shape, y_train.shape, y_valid.shape)"
   ]
  },
  {
   "cell_type": "markdown",
   "id": "d232eaf0",
   "metadata": {},
   "source": [
    "## 5. Векторизация  <a class=\"anchor\" id=\"vector\"></a>\n",
    "\n",
    "проведем классическую процедуру по представлению слов из текста в виде числовых признаков\n",
    "\n",
    "Проводим её после разделения на выборки чтобы не получить \"подглядывания\" в валидационные данные"
   ]
  },
  {
   "cell_type": "markdown",
   "id": "126412ea",
   "metadata": {},
   "source": [
    "Думал использовать модель bag of words для преобразования, но она  не учитывает что слово может иметь высокую частоту встречаемости и в других объектах title.\n",
    "\n",
    "Поэтому буду использовать TFIDF - эта модель учитывает частоту слов во всех title"
   ]
  },
  {
   "cell_type": "code",
   "execution_count": 13,
   "id": "02fbb04e",
   "metadata": {},
   "outputs": [
    {
     "data": {
      "text/html": [
       "<div>\n",
       "<style scoped>\n",
       "    .dataframe tbody tr th:only-of-type {\n",
       "        vertical-align: middle;\n",
       "    }\n",
       "\n",
       "    .dataframe tbody tr th {\n",
       "        vertical-align: top;\n",
       "    }\n",
       "\n",
       "    .dataframe thead th {\n",
       "        text-align: right;\n",
       "    }\n",
       "</style>\n",
       "<table border=\"1\" class=\"dataframe\">\n",
       "  <thead>\n",
       "    <tr style=\"text-align: right;\">\n",
       "      <th></th>\n",
       "      <th>pcnt_punct</th>\n",
       "      <th>count_words</th>\n",
       "      <th>sum_upper_chars</th>\n",
       "      <th>pos_NOUN</th>\n",
       "      <th>pos_ADJF</th>\n",
       "      <th>pos_ADJS</th>\n",
       "      <th>pos_COMP</th>\n",
       "      <th>pos_VERB</th>\n",
       "      <th>pos_INFN</th>\n",
       "      <th>pos_PRTF</th>\n",
       "      <th>...</th>\n",
       "      <th>явлинский</th>\n",
       "      <th>ядерный</th>\n",
       "      <th>язык</th>\n",
       "      <th>якутия</th>\n",
       "      <th>ян</th>\n",
       "      <th>январь</th>\n",
       "      <th>янукович</th>\n",
       "      <th>япония</th>\n",
       "      <th>японский</th>\n",
       "      <th>ёлка</th>\n",
       "    </tr>\n",
       "  </thead>\n",
       "  <tbody>\n",
       "    <tr>\n",
       "      <th>0</th>\n",
       "      <td>0</td>\n",
       "      <td>7</td>\n",
       "      <td>4</td>\n",
       "      <td>4</td>\n",
       "      <td>1</td>\n",
       "      <td>0</td>\n",
       "      <td>0</td>\n",
       "      <td>1</td>\n",
       "      <td>0</td>\n",
       "      <td>0</td>\n",
       "      <td>...</td>\n",
       "      <td>0.0</td>\n",
       "      <td>0.0</td>\n",
       "      <td>0.0</td>\n",
       "      <td>0.469901</td>\n",
       "      <td>0.0</td>\n",
       "      <td>0.0</td>\n",
       "      <td>0.0</td>\n",
       "      <td>0.0</td>\n",
       "      <td>0.0</td>\n",
       "      <td>0.0</td>\n",
       "    </tr>\n",
       "    <tr>\n",
       "      <th>1</th>\n",
       "      <td>9</td>\n",
       "      <td>14</td>\n",
       "      <td>3</td>\n",
       "      <td>7</td>\n",
       "      <td>2</td>\n",
       "      <td>0</td>\n",
       "      <td>0</td>\n",
       "      <td>1</td>\n",
       "      <td>0</td>\n",
       "      <td>1</td>\n",
       "      <td>...</td>\n",
       "      <td>0.0</td>\n",
       "      <td>0.0</td>\n",
       "      <td>0.0</td>\n",
       "      <td>0.000000</td>\n",
       "      <td>0.0</td>\n",
       "      <td>0.0</td>\n",
       "      <td>0.0</td>\n",
       "      <td>0.0</td>\n",
       "      <td>0.0</td>\n",
       "      <td>0.0</td>\n",
       "    </tr>\n",
       "    <tr>\n",
       "      <th>2</th>\n",
       "      <td>0</td>\n",
       "      <td>12</td>\n",
       "      <td>3</td>\n",
       "      <td>5</td>\n",
       "      <td>2</td>\n",
       "      <td>0</td>\n",
       "      <td>0</td>\n",
       "      <td>1</td>\n",
       "      <td>0</td>\n",
       "      <td>0</td>\n",
       "      <td>...</td>\n",
       "      <td>0.0</td>\n",
       "      <td>0.0</td>\n",
       "      <td>0.0</td>\n",
       "      <td>0.000000</td>\n",
       "      <td>0.0</td>\n",
       "      <td>0.0</td>\n",
       "      <td>0.0</td>\n",
       "      <td>0.0</td>\n",
       "      <td>0.0</td>\n",
       "      <td>0.0</td>\n",
       "    </tr>\n",
       "    <tr>\n",
       "      <th>3</th>\n",
       "      <td>0</td>\n",
       "      <td>11</td>\n",
       "      <td>3</td>\n",
       "      <td>5</td>\n",
       "      <td>3</td>\n",
       "      <td>0</td>\n",
       "      <td>0</td>\n",
       "      <td>1</td>\n",
       "      <td>0</td>\n",
       "      <td>0</td>\n",
       "      <td>...</td>\n",
       "      <td>0.0</td>\n",
       "      <td>0.0</td>\n",
       "      <td>0.0</td>\n",
       "      <td>0.000000</td>\n",
       "      <td>0.0</td>\n",
       "      <td>0.0</td>\n",
       "      <td>0.0</td>\n",
       "      <td>0.0</td>\n",
       "      <td>0.0</td>\n",
       "      <td>0.0</td>\n",
       "    </tr>\n",
       "    <tr>\n",
       "      <th>4</th>\n",
       "      <td>0</td>\n",
       "      <td>6</td>\n",
       "      <td>1</td>\n",
       "      <td>3</td>\n",
       "      <td>1</td>\n",
       "      <td>0</td>\n",
       "      <td>0</td>\n",
       "      <td>1</td>\n",
       "      <td>0</td>\n",
       "      <td>0</td>\n",
       "      <td>...</td>\n",
       "      <td>0.0</td>\n",
       "      <td>0.0</td>\n",
       "      <td>0.0</td>\n",
       "      <td>0.000000</td>\n",
       "      <td>0.0</td>\n",
       "      <td>0.0</td>\n",
       "      <td>0.0</td>\n",
       "      <td>0.0</td>\n",
       "      <td>0.0</td>\n",
       "      <td>0.0</td>\n",
       "    </tr>\n",
       "  </tbody>\n",
       "</table>\n",
       "<p>5 rows × 1530 columns</p>\n",
       "</div>"
      ],
      "text/plain": [
       "   pcnt_punct  count_words  sum_upper_chars  pos_NOUN  pos_ADJF  pos_ADJS  \\\n",
       "0           0            7                4         4         1         0   \n",
       "1           9           14                3         7         2         0   \n",
       "2           0           12                3         5         2         0   \n",
       "3           0           11                3         5         3         0   \n",
       "4           0            6                1         3         1         0   \n",
       "\n",
       "   pos_COMP  pos_VERB  pos_INFN  pos_PRTF  ...  явлинский  ядерный  язык  \\\n",
       "0         0         1         0         0  ...        0.0      0.0   0.0   \n",
       "1         0         1         0         1  ...        0.0      0.0   0.0   \n",
       "2         0         1         0         0  ...        0.0      0.0   0.0   \n",
       "3         0         1         0         0  ...        0.0      0.0   0.0   \n",
       "4         0         1         0         0  ...        0.0      0.0   0.0   \n",
       "\n",
       "     якутия   ян  январь  янукович  япония  японский  ёлка  \n",
       "0  0.469901  0.0     0.0       0.0     0.0       0.0   0.0  \n",
       "1  0.000000  0.0     0.0       0.0     0.0       0.0   0.0  \n",
       "2  0.000000  0.0     0.0       0.0     0.0       0.0   0.0  \n",
       "3  0.000000  0.0     0.0       0.0     0.0       0.0   0.0  \n",
       "4  0.000000  0.0     0.0       0.0     0.0       0.0   0.0  \n",
       "\n",
       "[5 rows x 1530 columns]"
      ]
     },
     "execution_count": 13,
     "metadata": {},
     "output_type": "execute_result"
    }
   ],
   "source": [
    "tfidfconverter = TfidfVectorizer(max_features=1500, # 1500 самых частых слов \n",
    "                                 min_df=3,  # не реже чем в 3 заголовках\n",
    "                                 max_df=0.2,  # больше чем в 20% заголовков\n",
    "                                 stop_words=stopwords.words('russian'))\n",
    "\n",
    "vect_fit = tfidfconverter.fit(X_train['clean_text'])\n",
    "\n",
    "vect_train = vect_fit.transform(X_train['clean_text'])#.toarray()\n",
    "vect_valid = vect_fit.transform(X_valid['clean_text'])#.toarray()\n",
    "\n",
    "# добавим новые признаки к выборкам и удалим ненужные\n",
    "X_train_df = pd.concat([X_train.drop(['is_fake','title','clean_text'],axis=1)\n",
    "                               .reset_index(drop=True), \n",
    "                        pd.DataFrame(vect_train.toarray(), \n",
    "                             columns=vect_fit.get_feature_names())], \n",
    "                        axis=1)\n",
    "X_valid_df = pd.concat([X_valid.drop(['is_fake','title','clean_text'],axis=1)\n",
    "                               .reset_index(drop=True), \n",
    "                        pd.DataFrame(vect_valid.toarray(), \n",
    "                             columns=vect_fit.get_feature_names())], \n",
    "                        axis=1)\n",
    "                          \n",
    "X_train_df.head(5)"
   ]
  },
  {
   "cell_type": "code",
   "execution_count": null,
   "id": "dc019cd6",
   "metadata": {},
   "outputs": [],
   "source": []
  },
  {
   "cell_type": "markdown",
   "id": "b16ae1ec",
   "metadata": {},
   "source": [
    "## 6. Моделирование и кросс валидация  <a class=\"anchor\" id=\"cross_val\"></a>"
   ]
  },
  {
   "cell_type": "markdown",
   "id": "30bab82f",
   "metadata": {},
   "source": [
    "Опробую Случайный лес на кросс-валидации и линейную регрессию"
   ]
  },
  {
   "cell_type": "markdown",
   "id": "906b1dee",
   "metadata": {},
   "source": [
    "###  6.1 Случайный лес <a class=\"anchor\" id=\"random_forest\"></a>"
   ]
  },
  {
   "cell_type": "code",
   "execution_count": 14,
   "id": "ae3175c1",
   "metadata": {},
   "outputs": [],
   "source": [
    "rf = RandomForestClassifier(random_state=42)\n",
    "\n",
    "param = {'n_estimators':[300,400,500],\n",
    "         'max_depth': [50,75,100]}\n",
    "         #'min_samples_leaf': range(1,11,2),\n",
    "         #'min_samples_split': range(1,11,2)}\n",
    "\n",
    "gs = GridSearchCV(rf, param, cv=4, n_jobs=-1)"
   ]
  },
  {
   "cell_type": "markdown",
   "id": "9228244a",
   "metadata": {},
   "source": [
    "для кросс валидации хочу воспользоваться всем имеющимся датасетом до разбиения, но целесообразность такого подхода под вопросом - так как векторизация методом tfidf будет давать \"даталик\" "
   ]
  },
  {
   "cell_type": "code",
   "execution_count": 15,
   "id": "f158b9a4",
   "metadata": {},
   "outputs": [],
   "source": [
    "#vect_fit = tfidfconverter.fit(train_df['clean_text'])\n",
    "vect_df = vect_fit.fit_transform(train_df['clean_text'])#.toarray()\n",
    "vect_train_df = pd.concat([train_df.drop(['is_fake','title','clean_text'],axis=1)\n",
    "                                   .reset_index(drop=True), \n",
    "                           pd.DataFrame(vect_df.toarray(), \n",
    "                               columns=vect_fit.get_feature_names())], \n",
    "                          axis=1)"
   ]
  },
  {
   "cell_type": "code",
   "execution_count": 16,
   "id": "adb9fc96",
   "metadata": {},
   "outputs": [
    {
     "data": {
      "text/html": [
       "<div>\n",
       "<style scoped>\n",
       "    .dataframe tbody tr th:only-of-type {\n",
       "        vertical-align: middle;\n",
       "    }\n",
       "\n",
       "    .dataframe tbody tr th {\n",
       "        vertical-align: top;\n",
       "    }\n",
       "\n",
       "    .dataframe thead th {\n",
       "        text-align: right;\n",
       "    }\n",
       "</style>\n",
       "<table border=\"1\" class=\"dataframe\">\n",
       "  <thead>\n",
       "    <tr style=\"text-align: right;\">\n",
       "      <th></th>\n",
       "      <th>mean_fit_time</th>\n",
       "      <th>std_fit_time</th>\n",
       "      <th>mean_score_time</th>\n",
       "      <th>std_score_time</th>\n",
       "      <th>param_max_depth</th>\n",
       "      <th>param_n_estimators</th>\n",
       "      <th>params</th>\n",
       "      <th>split0_test_score</th>\n",
       "      <th>split1_test_score</th>\n",
       "      <th>split2_test_score</th>\n",
       "      <th>split3_test_score</th>\n",
       "      <th>mean_test_score</th>\n",
       "      <th>std_test_score</th>\n",
       "      <th>rank_test_score</th>\n",
       "    </tr>\n",
       "  </thead>\n",
       "  <tbody>\n",
       "    <tr>\n",
       "      <th>6</th>\n",
       "      <td>25.460714</td>\n",
       "      <td>0.084102</td>\n",
       "      <td>0.535740</td>\n",
       "      <td>0.045711</td>\n",
       "      <td>100</td>\n",
       "      <td>300</td>\n",
       "      <td>{'max_depth': 100, 'n_estimators': 300}</td>\n",
       "      <td>0.808333</td>\n",
       "      <td>0.817361</td>\n",
       "      <td>0.817234</td>\n",
       "      <td>0.799166</td>\n",
       "      <td>0.810524</td>\n",
       "      <td>0.007510</td>\n",
       "      <td>1</td>\n",
       "    </tr>\n",
       "    <tr>\n",
       "      <th>8</th>\n",
       "      <td>27.963745</td>\n",
       "      <td>0.163870</td>\n",
       "      <td>0.303277</td>\n",
       "      <td>0.025509</td>\n",
       "      <td>100</td>\n",
       "      <td>500</td>\n",
       "      <td>{'max_depth': 100, 'n_estimators': 500}</td>\n",
       "      <td>0.810417</td>\n",
       "      <td>0.813889</td>\n",
       "      <td>0.815844</td>\n",
       "      <td>0.799166</td>\n",
       "      <td>0.809829</td>\n",
       "      <td>0.006456</td>\n",
       "      <td>2</td>\n",
       "    </tr>\n",
       "    <tr>\n",
       "      <th>3</th>\n",
       "      <td>24.121493</td>\n",
       "      <td>0.026685</td>\n",
       "      <td>0.501708</td>\n",
       "      <td>0.022621</td>\n",
       "      <td>75</td>\n",
       "      <td>300</td>\n",
       "      <td>{'max_depth': 75, 'n_estimators': 300}</td>\n",
       "      <td>0.807639</td>\n",
       "      <td>0.815278</td>\n",
       "      <td>0.814454</td>\n",
       "      <td>0.799861</td>\n",
       "      <td>0.809308</td>\n",
       "      <td>0.006208</td>\n",
       "      <td>3</td>\n",
       "    </tr>\n",
       "  </tbody>\n",
       "</table>\n",
       "</div>"
      ],
      "text/plain": [
       "   mean_fit_time  std_fit_time  mean_score_time  std_score_time  \\\n",
       "6      25.460714      0.084102         0.535740        0.045711   \n",
       "8      27.963745      0.163870         0.303277        0.025509   \n",
       "3      24.121493      0.026685         0.501708        0.022621   \n",
       "\n",
       "  param_max_depth param_n_estimators                                   params  \\\n",
       "6             100                300  {'max_depth': 100, 'n_estimators': 300}   \n",
       "8             100                500  {'max_depth': 100, 'n_estimators': 500}   \n",
       "3              75                300   {'max_depth': 75, 'n_estimators': 300}   \n",
       "\n",
       "   split0_test_score  split1_test_score  split2_test_score  split3_test_score  \\\n",
       "6           0.808333           0.817361           0.817234           0.799166   \n",
       "8           0.810417           0.813889           0.815844           0.799166   \n",
       "3           0.807639           0.815278           0.814454           0.799861   \n",
       "\n",
       "   mean_test_score  std_test_score  rank_test_score  \n",
       "6         0.810524        0.007510                1  \n",
       "8         0.809829        0.006456                2  \n",
       "3         0.809308        0.006208                3  "
      ]
     },
     "execution_count": 16,
     "metadata": {},
     "output_type": "execute_result"
    }
   ],
   "source": [
    "gs_fit = gs.fit(vect_train_df, train_df['is_fake']) \n",
    "\n",
    "pd.DataFrame(gs_fit.cv_results_).sort_values('mean_test_score', ascending=False).head(3)"
   ]
  },
  {
   "cell_type": "markdown",
   "id": "47f0170c",
   "metadata": {},
   "source": [
    "Лучшие параметры\n",
    "'n_estimators':300, 'max_depth': 100,: 3 показали среднюю оценку 0.81"
   ]
  },
  {
   "cell_type": "markdown",
   "id": "39974385",
   "metadata": {},
   "source": [
    "Далее посмотрим как модель с лучшими параметрами покажет себя на валидации"
   ]
  },
  {
   "cell_type": "code",
   "execution_count": 17,
   "id": "831c1376",
   "metadata": {},
   "outputs": [
    {
     "name": "stdout",
     "output_type": "stream",
     "text": [
      "Precision: 0.832 / Recall: 0.767 / F1-Score: 0.799\n"
     ]
    }
   ],
   "source": [
    "rf = RandomForestClassifier(n_estimators=300, max_depth=100, n_jobs=-1, random_state=42)\n",
    "rf_model = rf.fit(X_train_df, y_train)\n",
    "y_pred = rf_model.predict(X_valid_df)\n",
    "\n",
    "precision, recall, fscore, support = score(y_valid, y_pred,  average='binary')\n",
    "print(f'Precision: {round(precision, 3)} / Recall: {round(recall, 3)} / F1-Score: {round(fscore,3)}')"
   ]
  },
  {
   "cell_type": "markdown",
   "id": "d773950d",
   "metadata": {},
   "source": [
    "Отобразим в какой метрике у модели перекос"
   ]
  },
  {
   "cell_type": "code",
   "execution_count": 18,
   "id": "5388227c",
   "metadata": {},
   "outputs": [
    {
     "data": {
      "image/png": "[encoded data removed]",
      "text/plain": [
       "<Figure size 432x288 with 2 Axes>"
      ]
     },
     "metadata": {
      "needs_background": "light"
     },
     "output_type": "display_data"
    }
   ],
   "source": [
    "cm = confusion_matrix(y_valid, y_pred)\n",
    "class_label = [\"True\", \"Fake\"]\n",
    "df_cm = pd.DataFrame(cm, index=class_label,columns=class_label)\n",
    "sns.heatmap(df_cm, annot=True, fmt='d')\n",
    "plt.title(\"Confusion Matrix\")\n",
    "plt.xlabel(\"Predicted Label\")\n",
    "plt.ylabel(\"True Label\")\n",
    "plt.show()"
   ]
  },
  {
   "cell_type": "markdown",
   "id": "e6fdf060",
   "metadata": {},
   "source": [
    "не очень хорошо: из 576 фейков модель определила 134 как правду, а из 576 правдивых - 89 как фейк. \n",
    " 20 пройцентов определено неверно."
   ]
  },
  {
   "cell_type": "markdown",
   "id": "ebde83f9",
   "metadata": {},
   "source": [
    "### 6.2 Оценка важности признаков <a class=\"anchor\" id=\"feature_importances\"></a>"
   ]
  },
  {
   "cell_type": "code",
   "execution_count": 19,
   "id": "1124a66f",
   "metadata": {},
   "outputs": [],
   "source": [
    "feature_importances = rf_model.feature_importances_\n",
    "feature_importances_df = pd.DataFrame({'features': X_train_df.columns,\n",
    "                                       'feature_importances': feature_importances })\n",
    "\n",
    "feature_importances_df = feature_importances_df.sort_values('feature_importances', ascending=False)"
   ]
  },
  {
   "cell_type": "code",
   "execution_count": 20,
   "id": "09b56e29",
   "metadata": {},
   "outputs": [
    {
     "data": {
      "text/plain": [
       "<AxesSubplot:xlabel='feature_importances', ylabel='features'>"
      ]
     },
     "execution_count": 20,
     "metadata": {},
     "output_type": "execute_result"
    },
    {
     "data": {
      "image/png": "[encoded data removed]",
      "text/plain": [
       "<Figure size 432x288 with 1 Axes>"
      ]
     },
     "metadata": {
      "needs_background": "light"
     },
     "output_type": "display_data"
    }
   ],
   "source": [
    "import seaborn as sns\n",
    "sns.barplot(x=feature_importances_df['feature_importances'].head(10),y=feature_importances_df['features'].head(10))"
   ]
  },
  {
   "cell_type": "markdown",
   "id": "dcd36672",
   "metadata": {},
   "source": [
    "Очень большое влияние имеет признак \"количество слов\", не думаю что это хорошо - и это особенность тренировочного набора данных, на которых модель получается переобучилась."
   ]
  },
  {
   "cell_type": "markdown",
   "id": "077b013b",
   "metadata": {},
   "source": [
    "### 6.3 Логистическая регрессия <a class=\"anchor\" id=\"log_reg\"></a>"
   ]
  },
  {
   "cell_type": "markdown",
   "id": "17b587c1",
   "metadata": {},
   "source": [
    "Для логистической регресии признаки стандартизирую , потому что алгоритм штрафует за большие значения весов.\n",
    "\n",
    "скалировать буду только не векторизованные фитчи"
   ]
  },
  {
   "cell_type": "code",
   "execution_count": 21,
   "id": "fe636973",
   "metadata": {},
   "outputs": [],
   "source": [
    "scaler = StandardScaler().fit(X_train.drop(['is_fake','title','clean_text'],axis=1))\n",
    "X_scaled_train = scaler.transform(X_train.drop(['is_fake','title','clean_text'],axis=1))\n",
    "X_scaled_valid = scaler.transform(X_valid.drop(['is_fake','title','clean_text'],axis=1))"
   ]
  },
  {
   "cell_type": "code",
   "execution_count": 22,
   "id": "7266ea5c",
   "metadata": {},
   "outputs": [],
   "source": [
    "vect_train = vect_fit.transform(X_train['clean_text'])\n",
    "vect_valid = vect_fit.transform(X_valid['clean_text'])"
   ]
  },
  {
   "cell_type": "code",
   "execution_count": 23,
   "id": "c66172ae",
   "metadata": {},
   "outputs": [],
   "source": [
    "# добавлю новые признаки к стндартизованным выборкам \n",
    "\n",
    "X_scaled_train_df = pd.concat([pd.DataFrame(X_scaled_train),\n",
    "                               pd.DataFrame(vect_train.toarray())], \n",
    "                        axis=1)\n",
    "\n",
    "X_scaled_valid_df = pd.concat([pd.DataFrame(X_scaled_valid),\n",
    "                               pd.DataFrame(vect_valid.toarray())], \n",
    "                        axis=1)"
   ]
  },
  {
   "cell_type": "code",
   "execution_count": 24,
   "id": "c2635915",
   "metadata": {},
   "outputs": [
    {
     "name": "stdout",
     "output_type": "stream",
     "text": [
      "Precision: 0.873 / Recall: 0.837 / F1-Score: 0.855\n"
     ]
    }
   ],
   "source": [
    "# создаем обучаем модель\n",
    "model_lr = LogisticRegression()\n",
    "model_lr.fit(X_scaled_train_df, y_train)\n",
    "\n",
    "y_pred = model_lr.predict(X_scaled_valid_df)\n",
    "\n",
    "precision, recall, fscore, support = score(y_valid, y_pred,  average='binary')\n",
    "print(f'Precision: {round(precision, 3)} / Recall: {round(recall, 3)} / F1-Score: {round(fscore,3)}')"
   ]
  },
  {
   "cell_type": "code",
   "execution_count": 25,
   "id": "c28a707f",
   "metadata": {},
   "outputs": [
    {
     "name": "stdout",
     "output_type": "stream",
     "text": [
      "LogisticRegression: ROC AUC=0.926\n"
     ]
    },
    {
     "data": {
      "image/png": "[encoded data removed]",
      "text/plain": [
       "<Figure size 432x288 with 1 Axes>"
      ]
     },
     "metadata": {
      "needs_background": "light"
     },
     "output_type": "display_data"
    }
   ],
   "source": [
    "\n",
    "# получаем предказания\n",
    "lr_probs = model_lr.predict_proba(X_scaled_valid_df)\n",
    "\n",
    "# сохраняем вероятности только для положительного исхода\n",
    "lr_probs = lr_probs[:, 1]\n",
    "\n",
    "# рассчитываем ROC AUC\n",
    "lr_auc = roc_auc_score(y_valid, lr_probs)\n",
    "print('LogisticRegression: ROC AUC=%.3f' % (lr_auc))\n",
    "\n",
    "# рассчитываем roc-кривую\n",
    "fpr, tpr, treshold = roc_curve(y_valid, lr_probs)\n",
    "roc_auc = auc(fpr, tpr)\n",
    "\n",
    "# строим график\n",
    "plt.plot(fpr, tpr, color='darkorange',\n",
    "         label='ROC кривая (area = %0.2f)' % roc_auc)\n",
    "plt.plot([0, 1], [0, 1], color='navy', linestyle='--')\n",
    "plt.xlim([0.0, 1.0])\n",
    "plt.ylim([0.0, 1.05])\n",
    "plt.xlabel('False Positive Rate')\n",
    "plt.ylabel('True Positive Rate')\n",
    "plt.title('график ROC-кривой')\n",
    "plt.legend(loc=\"lower right\")\n",
    "plt.show()\n"
   ]
  },
  {
   "cell_type": "markdown",
   "id": "2326b7b7",
   "metadata": {},
   "source": [
    "ROC AUC выглядит как у хоршей модели классификации"
   ]
  },
  {
   "cell_type": "markdown",
   "id": "26d53716",
   "metadata": {},
   "source": [
    "Сравню с классификатором \"на дурочка\"."
   ]
  },
  {
   "cell_type": "code",
   "execution_count": 26,
   "id": "85f2e90c",
   "metadata": {},
   "outputs": [
    {
     "name": "stdout",
     "output_type": "stream",
     "text": [
      "Precision: 0.513 / Recall: 0.509 / F1-Score: 0.511 \n"
     ]
    }
   ],
   "source": [
    "model_dummy = DummyClassifier(strategy='stratified')\n",
    "model_dummy.fit(X_train_df, y_train)\n",
    "y_pred = model_dummy.predict(X_valid_df)\n",
    "\n",
    "precision, recall, fscore, train_support = score(y_valid, y_pred,  average='binary')\n",
    "print(f'Precision: {round(precision, 3)} / Recall: {round(recall, 3)} / F1-Score: {round(fscore,3)} ')"
   ]
  },
  {
   "cell_type": "markdown",
   "id": "f87bf724",
   "metadata": {},
   "source": [
    "Проверка на адекватньсть модели прошли."
   ]
  },
  {
   "cell_type": "markdown",
   "id": "efc9b0fb",
   "metadata": {},
   "source": [
    "## 7. Финальное тестирование <a class=\"anchor\" id=\"final\"></a>"
   ]
  },
  {
   "cell_type": "markdown",
   "id": "f8e6ce8f",
   "metadata": {},
   "source": [
    "определился с моделью.\n",
    "подгоовлю тетовый датафрейм - очистка текста, создание признаков, стандартизация"
   ]
  },
  {
   "cell_type": "markdown",
   "id": "84c9f246",
   "metadata": {},
   "source": [
    "### 7.1 Подготовка тестового датасета   <a class=\"anchor\" id=\"test_data\"></a>\n",
    "\n"
   ]
  },
  {
   "cell_type": "code",
   "execution_count": 27,
   "id": "1d829298",
   "metadata": {},
   "outputs": [],
   "source": [
    "test_df['clean_text'] = test_df['title'].apply(lambda x: text_cleaning(x))\n",
    "\n",
    "# доля знаков пунктуации в title\n",
    "test_df['pcnt_punct'] = test_df['title'].apply(lambda x: pcnt_punct(x))\n",
    "\n",
    "# количество слов в title\n",
    "test_df['count_words'] = test_df['title'].apply(lambda x: sum([1 for y in x.split()]))\n",
    "\n",
    "# количество заглавных букв \n",
    "test_df['sum_upper_chars'] = test_df['title'].apply(lambda x: sum([1 for y in x if y.isupper()]))"
   ]
  },
  {
   "cell_type": "code",
   "execution_count": 28,
   "id": "c3a6db8a",
   "metadata": {},
   "outputs": [],
   "source": [
    "# создание признаков на каждую часть речи и падеж - перечень обозначений из библиотеки  pymorphy2\n",
    "for pc in POS_case_list:\n",
    "    if pc in POS_list:\n",
    "        col_name = 'pos_' + pc\n",
    "    else:\n",
    "        col_name = 'case_' + pc\n",
    "    test_df[col_name] = test_df['title'].apply(lambda x: get_pos_case_count(x,pc))"
   ]
  },
  {
   "cell_type": "code",
   "execution_count": 29,
   "id": "346f0164",
   "metadata": {},
   "outputs": [],
   "source": [
    "#test_df.head()"
   ]
  },
  {
   "cell_type": "code",
   "execution_count": 30,
   "id": "a29f5c1f",
   "metadata": {},
   "outputs": [
    {
     "data": {
      "text/html": [
       "<div>\n",
       "<style scoped>\n",
       "    .dataframe tbody tr th:only-of-type {\n",
       "        vertical-align: middle;\n",
       "    }\n",
       "\n",
       "    .dataframe tbody tr th {\n",
       "        vertical-align: top;\n",
       "    }\n",
       "\n",
       "    .dataframe thead th {\n",
       "        text-align: right;\n",
       "    }\n",
       "</style>\n",
       "<table border=\"1\" class=\"dataframe\">\n",
       "  <thead>\n",
       "    <tr style=\"text-align: right;\">\n",
       "      <th></th>\n",
       "      <th>pcnt_punct</th>\n",
       "      <th>count_words</th>\n",
       "      <th>sum_upper_chars</th>\n",
       "      <th>pos_NOUN</th>\n",
       "      <th>pos_ADJF</th>\n",
       "      <th>pos_ADJS</th>\n",
       "      <th>pos_COMP</th>\n",
       "      <th>pos_VERB</th>\n",
       "      <th>pos_INFN</th>\n",
       "      <th>pos_PRTF</th>\n",
       "      <th>...</th>\n",
       "      <th>являться</th>\n",
       "      <th>ядерный</th>\n",
       "      <th>язык</th>\n",
       "      <th>якутия</th>\n",
       "      <th>ян</th>\n",
       "      <th>январь</th>\n",
       "      <th>янукович</th>\n",
       "      <th>япония</th>\n",
       "      <th>японский</th>\n",
       "      <th>ёлка</th>\n",
       "    </tr>\n",
       "  </thead>\n",
       "  <tbody>\n",
       "    <tr>\n",
       "      <th>0</th>\n",
       "      <td>0.974855</td>\n",
       "      <td>-0.257485</td>\n",
       "      <td>-0.541969</td>\n",
       "      <td>-0.029853</td>\n",
       "      <td>0.058289</td>\n",
       "      <td>-0.13297</td>\n",
       "      <td>-0.095463</td>\n",
       "      <td>0.019461</td>\n",
       "      <td>-0.495831</td>\n",
       "      <td>-0.313486</td>\n",
       "      <td>...</td>\n",
       "      <td>0.0</td>\n",
       "      <td>0.0</td>\n",
       "      <td>0.0</td>\n",
       "      <td>0.0</td>\n",
       "      <td>0.0</td>\n",
       "      <td>0.0</td>\n",
       "      <td>0.0</td>\n",
       "      <td>0.0</td>\n",
       "      <td>0.0</td>\n",
       "      <td>0.0</td>\n",
       "    </tr>\n",
       "    <tr>\n",
       "      <th>1</th>\n",
       "      <td>1.436840</td>\n",
       "      <td>1.877285</td>\n",
       "      <td>2.246326</td>\n",
       "      <td>1.277332</td>\n",
       "      <td>1.162325</td>\n",
       "      <td>-0.13297</td>\n",
       "      <td>-0.095463</td>\n",
       "      <td>0.019461</td>\n",
       "      <td>-0.495831</td>\n",
       "      <td>-0.313486</td>\n",
       "      <td>...</td>\n",
       "      <td>0.0</td>\n",
       "      <td>0.0</td>\n",
       "      <td>0.0</td>\n",
       "      <td>0.0</td>\n",
       "      <td>0.0</td>\n",
       "      <td>0.0</td>\n",
       "      <td>0.0</td>\n",
       "      <td>0.0</td>\n",
       "      <td>0.0</td>\n",
       "      <td>0.0</td>\n",
       "    </tr>\n",
       "    <tr>\n",
       "      <th>2</th>\n",
       "      <td>-0.503498</td>\n",
       "      <td>0.809900</td>\n",
       "      <td>1.131008</td>\n",
       "      <td>1.930925</td>\n",
       "      <td>0.058289</td>\n",
       "      <td>-0.13297</td>\n",
       "      <td>-0.095463</td>\n",
       "      <td>0.019461</td>\n",
       "      <td>-0.495831</td>\n",
       "      <td>-0.313486</td>\n",
       "      <td>...</td>\n",
       "      <td>0.0</td>\n",
       "      <td>0.0</td>\n",
       "      <td>0.0</td>\n",
       "      <td>0.0</td>\n",
       "      <td>0.0</td>\n",
       "      <td>0.0</td>\n",
       "      <td>0.0</td>\n",
       "      <td>0.0</td>\n",
       "      <td>0.0</td>\n",
       "      <td>0.0</td>\n",
       "    </tr>\n",
       "    <tr>\n",
       "      <th>3</th>\n",
       "      <td>1.436840</td>\n",
       "      <td>1.165695</td>\n",
       "      <td>-1.099629</td>\n",
       "      <td>-0.683446</td>\n",
       "      <td>2.266361</td>\n",
       "      <td>-0.13297</td>\n",
       "      <td>-0.095463</td>\n",
       "      <td>0.019461</td>\n",
       "      <td>-0.495831</td>\n",
       "      <td>2.933014</td>\n",
       "      <td>...</td>\n",
       "      <td>0.0</td>\n",
       "      <td>0.0</td>\n",
       "      <td>0.0</td>\n",
       "      <td>0.0</td>\n",
       "      <td>0.0</td>\n",
       "      <td>0.0</td>\n",
       "      <td>0.0</td>\n",
       "      <td>0.0</td>\n",
       "      <td>0.0</td>\n",
       "      <td>0.0</td>\n",
       "    </tr>\n",
       "    <tr>\n",
       "      <th>4</th>\n",
       "      <td>-0.503498</td>\n",
       "      <td>-0.257485</td>\n",
       "      <td>0.573349</td>\n",
       "      <td>-0.683446</td>\n",
       "      <td>-1.045747</td>\n",
       "      <td>-0.13297</td>\n",
       "      <td>-0.095463</td>\n",
       "      <td>0.019461</td>\n",
       "      <td>-0.495831</td>\n",
       "      <td>-0.313486</td>\n",
       "      <td>...</td>\n",
       "      <td>0.0</td>\n",
       "      <td>0.0</td>\n",
       "      <td>0.0</td>\n",
       "      <td>0.0</td>\n",
       "      <td>0.0</td>\n",
       "      <td>0.0</td>\n",
       "      <td>0.0</td>\n",
       "      <td>0.0</td>\n",
       "      <td>0.0</td>\n",
       "      <td>0.0</td>\n",
       "    </tr>\n",
       "  </tbody>\n",
       "</table>\n",
       "<p>5 rows × 1530 columns</p>\n",
       "</div>"
      ],
      "text/plain": [
       "   pcnt_punct  count_words  sum_upper_chars  pos_NOUN  pos_ADJF  pos_ADJS  \\\n",
       "0    0.974855    -0.257485        -0.541969 -0.029853  0.058289  -0.13297   \n",
       "1    1.436840     1.877285         2.246326  1.277332  1.162325  -0.13297   \n",
       "2   -0.503498     0.809900         1.131008  1.930925  0.058289  -0.13297   \n",
       "3    1.436840     1.165695        -1.099629 -0.683446  2.266361  -0.13297   \n",
       "4   -0.503498    -0.257485         0.573349 -0.683446 -1.045747  -0.13297   \n",
       "\n",
       "   pos_COMP  pos_VERB  pos_INFN  pos_PRTF  ...  являться  ядерный  язык  \\\n",
       "0 -0.095463  0.019461 -0.495831 -0.313486  ...       0.0      0.0   0.0   \n",
       "1 -0.095463  0.019461 -0.495831 -0.313486  ...       0.0      0.0   0.0   \n",
       "2 -0.095463  0.019461 -0.495831 -0.313486  ...       0.0      0.0   0.0   \n",
       "3 -0.095463  0.019461 -0.495831  2.933014  ...       0.0      0.0   0.0   \n",
       "4 -0.095463  0.019461 -0.495831 -0.313486  ...       0.0      0.0   0.0   \n",
       "\n",
       "   якутия   ян  январь  янукович  япония  японский  ёлка  \n",
       "0     0.0  0.0     0.0       0.0     0.0       0.0   0.0  \n",
       "1     0.0  0.0     0.0       0.0     0.0       0.0   0.0  \n",
       "2     0.0  0.0     0.0       0.0     0.0       0.0   0.0  \n",
       "3     0.0  0.0     0.0       0.0     0.0       0.0   0.0  \n",
       "4     0.0  0.0     0.0       0.0     0.0       0.0   0.0  \n",
       "\n",
       "[5 rows x 1530 columns]"
      ]
     },
     "execution_count": 30,
     "metadata": {},
     "output_type": "execute_result"
    }
   ],
   "source": [
    "# векторизацию проведу обучив Tfidf на полном train_df\n",
    "\n",
    "vect_fit = tfidfconverter.fit(train_df['clean_text'])\n",
    "vect_train = vect_fit.transform(train_df['clean_text'])\n",
    "vect_test = vect_fit.transform(test_df['clean_text'])\n",
    "\n",
    "\n",
    "# стандартизация признаков\n",
    "scaler = StandardScaler().fit(train_df.drop(['is_fake','title','clean_text'],axis=1))\n",
    "X_scaled_train = scaler.transform(train_df.drop(['is_fake','title','clean_text'],axis=1))\n",
    "X_scaled_test = scaler.transform(test_df.drop(['is_fake','title','clean_text'],axis=1))\n",
    "\n",
    "\n",
    "# добавим новые признаки и удалим ненужные\n",
    "X_train_df = pd.concat( [pd.DataFrame(X_scaled_train, columns=(train_df.drop(['is_fake','title','clean_text'],axis=1).columns)), \n",
    "                        pd.DataFrame(vect_train.toarray(), columns=vect_fit.get_feature_names())], \n",
    "                        axis=1)\n",
    "\n",
    "X_test_df = pd.concat( [pd.DataFrame(X_scaled_test, columns=(train_df.drop(['is_fake','title','clean_text'],axis=1).columns)), \n",
    "                        pd.DataFrame(vect_test.toarray(), columns=vect_fit.get_feature_names())], \n",
    "                        axis=1)\n",
    "\n",
    "\n",
    "    \n",
    "X_test_df.head(5)"
   ]
  },
  {
   "cell_type": "code",
   "execution_count": 31,
   "id": "0e9737a6",
   "metadata": {},
   "outputs": [
    {
     "name": "stdout",
     "output_type": "stream",
     "text": [
      "(5758, 1530) (1000, 1530)\n"
     ]
    }
   ],
   "source": [
    "print(X_train_df.shape, X_test_df.shape)"
   ]
  },
  {
   "cell_type": "markdown",
   "id": "e651fe6f",
   "metadata": {},
   "source": [
    "### 7.2 Тестирование <a class=\"anchor\" id=\"test\"></a>"
   ]
  },
  {
   "cell_type": "code",
   "execution_count": 32,
   "id": "a7e9a73e",
   "metadata": {},
   "outputs": [],
   "source": [
    "model_lr_fin = LogisticRegression()\n",
    "model_lr_fin.fit(X_train_df,train_df['is_fake'])\n",
    "target_pred = model_lr.predict(X_test_df)"
   ]
  },
  {
   "cell_type": "code",
   "execution_count": 33,
   "id": "a7cd880d",
   "metadata": {},
   "outputs": [
    {
     "name": "stdout",
     "output_type": "stream",
     "text": [
      "всего: 1000, из них предположительно фейков: 475\n"
     ]
    }
   ],
   "source": [
    "print(f'всего: {len(target_pred)}, из них предположительно фейков: {sum(target_pred)}')"
   ]
  },
  {
   "cell_type": "code",
   "execution_count": 34,
   "id": "2a7a9dd3",
   "metadata": {},
   "outputs": [],
   "source": [
    "test_df['is_fake'] = target_pred\n",
    "test_df[['title','is_fake']].to_csv('dataset/predictions.tsv', sep=\"\\t\", index=False)"
   ]
  },
  {
   "cell_type": "code",
   "execution_count": null,
   "id": "a20f6430",
   "metadata": {},
   "outputs": [],
   "source": []
  },
  {
   "cell_type": "markdown",
   "id": "3fca31d2",
   "metadata": {},
   "source": [
    "Идея о том что стиль написания заголовка помогает распознать фейковый(кликбейтный) текст требует более глубокого исследования.\n",
    "\n",
    "Но очевидно что использование алгоритмов которые оценивают встречаемость лексических значений слов в одном предложении даст возможно лучший результат."
   ]
  },
  {
   "cell_type": "code",
   "execution_count": null,
   "id": "11a75e12",
   "metadata": {},
   "outputs": [],
   "source": []
  },
  {
   "cell_type": "code",
   "execution_count": null,
   "id": "d12dbb37",
   "metadata": {},
   "outputs": [],
   "source": []
  },
  {
   "cell_type": "code",
   "execution_count": null,
   "id": "e33acad4",
   "metadata": {},
   "outputs": [],
   "source": []
  }
 ],
 "metadata": {
  "kernelspec": {
   "display_name": "Python 3 (ipykernel)",
   "language": "python",
   "name": "python3"
  },
  "language_info": {
   "codemirror_mode": {
    "name": "ipython",
    "version": 3
   },
   "file_extension": ".py",
   "mimetype": "text/x-python",
   "name": "python",
   "nbconvert_exporter": "python",
   "pygments_lexer": "ipython3",
   "version": "3.10.0"
  }
 },
 "nbformat": 4,
 "nbformat_minor": 5
}
